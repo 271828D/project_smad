{
 "cells": [
  {
   "cell_type": "code",
   "execution_count": 2,
   "metadata": {},
   "outputs": [
    {
     "name": "stdout",
     "output_type": "stream",
     "text": [
      "Torch version: 2.2.2\n"
     ]
    }
   ],
   "source": [
    "import argparse\n",
    "import torch as th\n",
    "import torch.nn as nn\n",
    "import torchvision as tv\n",
    "from torchvision.transforms import v2\n",
    "from torchvision.datasets import ImageFolder\n",
    "from torchmetrics.classification import MulticlassPrecision, MulticlassRecall, MulticlassConfusionMatrix\n",
    "from torch.utils.data import Dataset, DataLoader\n",
    "from tqdm.auto import tqdm\n",
    "import numpy as np\n",
    "\n",
    "import time\n",
    "import wandb\n",
    "import random\n",
    "import os\n",
    "import argparse\n",
    "\n",
    "print(\"Torch version:\", th.__version__)"
   ]
  },
  {
   "cell_type": "code",
   "execution_count": 4,
   "metadata": {},
   "outputs": [],
   "source": [
    "data_dir = \"C:\\\\Users\\\\BenaventeD\\\\data\\\\s-mad-dataset\\\\preprocessed-frgc\\\\dataset_test\\\\\"\n",
    "# data_dir = \"C:\\\\Users\\\\BenaventeD\\\\data\\\\s-mad-dataset\\\\FERET\\\\npp\\\\dataset_test\"\n",
    "num_epochs = 3\n",
    "batch_size = 256\n",
    "img_size = 224\n",
    "class_num = 6\n",
    "lr = .0003\n",
    "model = \"efficientnetb3\"\n",
    "weights_path = \"C:\\\\Users\\\\BenaventeD\\\\Projects\\\\project_smad\\\\efficientnetb3_3.pt\""
   ]
  },
  {
   "cell_type": "code",
   "execution_count": 17,
   "metadata": {},
   "outputs": [
    {
     "name": "stderr",
     "output_type": "stream",
     "text": [
      "c:\\Users\\BenaventeD\\anaconda3\\envs\\project_smad\\Lib\\site-packages\\torchvision\\transforms\\v2\\_deprecated.py:41: UserWarning: The transform `ToTensor()` is deprecated and will be removed in a future release. Instead, please use `v2.Compose([v2.ToImage(), v2.ToDtype(torch.float32, scale=True)])`.\n",
      "  warnings.warn(\n"
     ]
    }
   ],
   "source": [
    "#########################################################\n",
    "if th.cuda.is_available():\n",
    "  device = \"cuda:0\"\n",
    "else:\n",
    "  device = \"cpu\"\n",
    "#########################################################\n",
    "if os.path.exists(data_dir):\n",
    "   test_path = \"C:\\\\Users\\\\BenaventeD\\\\data\\\\s-mad-dataset\\\\FERET\\\\npp\\\\dataset_test\" # os.path.join(data_dir, \"test\")\n",
    "   if os.path.exists(test_path):\n",
    "     transf = v2.Compose([\n",
    "                        v2.Resize(size=(img_size,img_size)),\n",
    "                        v2.RandomHorizontalFlip(p=.5),\n",
    "                        v2.ToTensor(),\n",
    "                        ])\n",
    "     test_data = ImageFolder(root=test_path, transform=transf, \n",
    "                        )\n",
    "     test_loader = DataLoader(test_data, batch_size=batch_size, shuffle=True)\n",
    "   else:\n",
    "      raise Exception(\"The test path doesn't exist\") \n",
    "else:\n",
    "    raise Exception(\"The data dir doesn't exist\")"
   ]
  },
  {
   "cell_type": "code",
   "execution_count": 7,
   "metadata": {},
   "outputs": [
    {
     "data": {
      "text/plain": [
       "<All keys matched successfully>"
      ]
     },
     "execution_count": 7,
     "metadata": {},
     "output_type": "execute_result"
    }
   ],
   "source": [
    "############ Models ##################\n",
    "if model == \"efficientnetb3\":\n",
    "    model_name = model\n",
    "    ######## EfficientNet B3 #############\n",
    "    model = tv.models.efficientnet_b3(weights='IMAGENET1K_V1')\n",
    "    model.classifier = nn.Sequential(\n",
    "                                                nn.Dropout(p=.2, inplace=True),\n",
    "                                                nn.Linear(in_features=1536, out_features=class_num, bias=True),\n",
    "                                                nn.Softmax(dim=1)\n",
    "                                                )\n",
    "    model.to(device)\n",
    "elif model == 'mobilenetv3':\n",
    "    model_name = model\n",
    "    ######## MobileNet V3 #############\n",
    "    model = tv.models.mobilenet_v3_large(weights='IMAGENET1K_V1')\n",
    "    model.classifier = nn.Sequential(\n",
    "                                                    nn.Linear(in_features=960, out_features=1280, bias=True),\n",
    "                                                    nn.Hardswish(inplace=True),\n",
    "                                                    nn.Dropout(p=.2, inplace=True),\n",
    "                                                    nn.Linear(in_features=1280, out_features=class_num, bias=True),\n",
    "                                                    nn.Softmax(dim=1)\n",
    "                                                )\n",
    "    model.to(device)\n",
    "elif model == 'swin_transformer':\n",
    "    model_name = model\n",
    "    ######## Swin Transformer #############\n",
    "    model = tv.models.swin_t(weights='IMAGENET1K_V1')\n",
    "    print('Head classifier:', model.head)\n",
    "    model.head = nn.Sequential(\n",
    "                                nn.Linear(in_features=768, out_features=class_num, bias=True),\n",
    "                                nn.Softmax(dim=1)\n",
    "                                            )\n",
    "    model.to(device)\n",
    "model.load_state_dict(th.load(weights_path))"
   ]
  },
  {
   "cell_type": "code",
   "execution_count": 36,
   "metadata": {},
   "outputs": [
    {
     "name": "stdout",
     "output_type": "stream",
     "text": [
      "[INFO] training the network: 1715762029.14s\n"
     ]
    },
    {
     "data": {
      "application/vnd.jupyter.widget-view+json": {
       "model_id": "7dcd98166b77476d8f1e12ccd5b93689",
       "version_major": 2,
       "version_minor": 0
      },
      "text/plain": [
       "Batch:   0%|          | 0/15 [00:00<?, ?it/s]"
      ]
     },
     "metadata": {},
     "output_type": "display_data"
    },
    {
     "name": "stdout",
     "output_type": "stream",
     "text": [
      "\t test loss: 1.8026577234268188\n",
      "[INFO] total time taken to train the model: 361.54s\n"
     ]
    }
   ],
   "source": [
    "#######################################\n",
    "# Criterion\n",
    "loss_fn = nn.CrossEntropyLoss().to(device)\n",
    "# Metric\n",
    "conf_matrix = MulticlassConfusionMatrix(num_classes=class_num)\n",
    "#######################################\n",
    "startTime = time.time()\n",
    "print(\"[INFO] training the network: {:.2f}s\".format(startTime))\n",
    "\n",
    "model.eval()\n",
    "test_losses = np.array([])\n",
    "for batch, labels in (pbar:= tqdm(test_loader, desc=\"Batch\", position=0)):\n",
    "   with th.no_grad():\n",
    "        batch = batch.to(device)\n",
    "        labels = labels.to(device)\n",
    "        transformed = model.forward(batch)\n",
    "        loss = loss_fn(transformed, labels).to(device)\n",
    "        test_losses = np.append(test_losses, loss.detach().cpu())\n",
    "conf_matrix_ = conf_matrix(th.argmax(input=transformed, dim=1), labels)\n",
    "        # break\n",
    "print(f'\\t test loss: {np.sum(test_losses) / len(test_losses)}')\n",
    "endTime = time.time()\n",
    "print(\"[INFO] total time taken to train the model: {:.2f}s\".format(endTime - startTime)) "
   ]
  },
  {
   "cell_type": "code",
   "execution_count": 52,
   "metadata": {},
   "outputs": [
    {
     "data": {
      "text/plain": [
       "15"
      ]
     },
     "execution_count": 52,
     "metadata": {},
     "output_type": "execute_result"
    }
   ],
   "source": [
    "len(test_losses)"
   ]
  },
  {
   "cell_type": "code",
   "execution_count": 48,
   "metadata": {},
   "outputs": [
    {
     "data": {
      "text/plain": [
       "torch.Size([119, 3, 224, 224])"
      ]
     },
     "execution_count": 48,
     "metadata": {},
     "output_type": "execute_result"
    }
   ],
   "source": [
    "batch.size()"
   ]
  },
  {
   "cell_type": "code",
   "execution_count": 49,
   "metadata": {},
   "outputs": [
    {
     "data": {
      "text/plain": [
       "torch.Size([119])"
      ]
     },
     "execution_count": 49,
     "metadata": {},
     "output_type": "execute_result"
    }
   ],
   "source": [
    "labels.size()"
   ]
  },
  {
   "cell_type": "code",
   "execution_count": 47,
   "metadata": {},
   "outputs": [
    {
     "data": {
      "image/png": "[encoded data removed]",
      "text/plain": [
       "<Figure size 640x480 with 1 Axes>"
      ]
     },
     "metadata": {},
     "output_type": "display_data"
    }
   ],
   "source": [
    "fig_, ax_ = conf_matrix.plot()"
   ]
  }
 ],
 "metadata": {
  "kernelspec": {
   "display_name": "project_smad",
   "language": "python",
   "name": "python3"
  },
  "language_info": {
   "codemirror_mode": {
    "name": "ipython",
    "version": 3
   },
   "file_extension": ".py",
   "mimetype": "text/x-python",
   "name": "python",
   "nbconvert_exporter": "python",
   "pygments_lexer": "ipython3",
   "version": "3.12.2"
  }
 },
 "nbformat": 4,
 "nbformat_minor": 2
}
